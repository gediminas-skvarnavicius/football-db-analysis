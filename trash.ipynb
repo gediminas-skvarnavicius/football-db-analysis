{
 "cells": [
  {
   "cell_type": "code",
   "execution_count": null,
   "metadata": {},
   "outputs": [],
   "source": [
    "from mplsoccer import Pitch"
   ]
  },
  {
   "cell_type": "code",
   "execution_count": null,
   "metadata": {},
   "outputs": [],
   "source": [
    "match1=con.query(\n",
    "    \"\"\"--sql\n",
    "SELECT * from Match WHERE home_player_X1 NOT NULL LIMIT 1\"\"\"\n",
    ").to_df()"
   ]
  },
  {
   "cell_type": "code",
   "execution_count": null,
   "metadata": {},
   "outputs": [],
   "source": [
    "match1dict={}\n",
    "match1dict['x']=[]\n",
    "match1dict['y']=[]"
   ]
  },
  {
   "cell_type": "code",
   "execution_count": null,
   "metadata": {},
   "outputs": [],
   "source": [
    "for x,y in zip([x for x in match1.columns.to_list() if 'home_player_X' in x],[x for x in match1.columns.to_list() if 'home_player_Y' in x]):\n",
    "    match1dict['x'].append(match1[x][0])\n",
    "    match1dict['y'].append(match1[y][0])"
   ]
  },
  {
   "cell_type": "code",
   "execution_count": null,
   "metadata": {},
   "outputs": [],
   "source": [
    "away={}\n",
    "away['x']=[]\n",
    "away['y']=[]\n",
    "for x,y in zip([x for x in match1.columns.to_list() if 'y_player_X' in x],[x for x in match1.columns.to_list() if 'y_player_Y' in x]):\n",
    "    away['x'].append(match1[x][0])\n",
    "    away['y'].append(match1[y][0])\n",
    "away['x']=np.array(away['x'])\n",
    "away['y']=np.array(away['y'])"
   ]
  },
  {
   "cell_type": "code",
   "execution_count": null,
   "metadata": {},
   "outputs": [],
   "source": [
    "def scale_array(arr):\n",
    "    min_input = 0\n",
    "    max_input = 11\n",
    "    min_output = -4\n",
    "    max_output = 84\n",
    "    scaled_arr = ((arr - min_input) / (max_input - min_input)) * (max_output - min_output) + min_output\n",
    "\n",
    "    return scaled_arr\n",
    "\n"
   ]
  },
  {
   "cell_type": "code",
   "execution_count": null,
   "metadata": {},
   "outputs": [],
   "source": [
    "\n",
    "pitch = Pitch(pitch_color='grass', line_color='white', stripe=True)\n",
    "fig, ax = pitch.draw()\n",
    "ax.scatter(away['y']*5, scale_array(away['x']))\n",
    "plt.show()\n"
   ]
  },
  {
   "cell_type": "code",
   "execution_count": null,
   "metadata": {},
   "outputs": [],
   "source": []
  }
 ],
 "metadata": {
  "language_info": {
   "name": "python"
  },
  "orig_nbformat": 4
 },
 "nbformat": 4,
 "nbformat_minor": 2
}
