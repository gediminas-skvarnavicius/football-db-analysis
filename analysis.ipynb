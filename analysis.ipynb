{
 "cells": [
  {
   "cell_type": "code",
   "execution_count": 2,
   "metadata": {},
   "outputs": [],
   "source": [
    "import duckdb\n",
    "import pandas as pd\n",
    "from IPython.display import Markdown, display\n",
    "from tabulate import tabulate\n",
    "import matplotlib.pyplot as plt\n",
    "import numpy as np\n",
    "\n"
   ]
  },
  {
   "cell_type": "code",
   "execution_count": 3,
   "metadata": {},
   "outputs": [
    {
     "data": {
      "text/plain": [
       "<duckdb.DuckDBPyConnection at 0x7f9f7e28c8f0>"
      ]
     },
     "execution_count": 3,
     "metadata": {},
     "output_type": "execute_result"
    }
   ],
   "source": [
    "con = duckdb.connect()\n",
    "con.execute(f\"INSTALL sqlite\")\n",
    "con.execute(f\"LOAD sqlite\")\n",
    "con.execute(f\"SET GLOBAL sqlite_all_varchar=true\")\n",
    "con.execute(f\"CALL sqlite_attach('data/database.sqlite')\")"
   ]
  },
  {
   "cell_type": "code",
   "execution_count": 107,
   "metadata": {},
   "outputs": [
    {
     "data": {
      "text/markdown": [
       "| Table Name        |   Column Count |\n",
       "|:------------------|---------------:|\n",
       "| sqlite_sequence   |              2 |\n",
       "| Player_Attributes |             42 |\n",
       "| Player            |              7 |\n",
       "| Match             |            115 |\n",
       "| League            |              3 |\n",
       "| Country           |              2 |\n",
       "| Team              |              5 |\n",
       "| Team_Attributes   |             25 |"
      ],
      "text/plain": [
       "<IPython.core.display.Markdown object>"
      ]
     },
     "execution_count": 107,
     "metadata": {},
     "output_type": "execute_result"
    }
   ],
   "source": [
    "tables=con.query(\n",
    "            f\"\"\"--sql\n",
    "SELECT table_name as 'Table Name', COUNT(column_name) AS 'Column Count' FROM information_schema.columns GROUP BY table_name\n",
    "\"\"\"\n",
    "        ).to_df()"
   ]
  },
  {
   "cell_type": "code",
   "execution_count": 108,
   "metadata": {},
   "outputs": [],
   "source": [
    "table_columns = con.query(\n",
    "    f\"\"\"--sql\n",
    "SELECT table_name,\n",
    "    GROUP_CONCAT(column_name) AS column_names\n",
    "FROM information_schema.columns\n",
    "GROUP BY table_name\"\"\"\n",
    ").to_df()\n",
    "tables['column_names']=table_columns['column_names'].apply(lambda x: x.split(','))"
   ]
  },
  {
   "cell_type": "code",
   "execution_count": 135,
   "metadata": {},
   "outputs": [],
   "source": [
    "row_counts={}\n",
    "for table_name in tables['Table Name']:\n",
    "    row_counts[table_name]=con.query(f\"\"\"--sql\n",
    "                                     SELECT COUNT(*) FROM {table_name}\n",
    "                                     \"\"\").fetchone()[0]\n",
    "    \n",
    "\n",
    "tables=tables.join(pd.Series(row_counts).rename('Row Count'), on='Table Name')"
   ]
  },
  {
   "cell_type": "code",
   "execution_count": 132,
   "metadata": {},
   "outputs": [
    {
     "data": {
      "text/html": [
       "<div>\n",
       "<style scoped>\n",
       "    .dataframe tbody tr th:only-of-type {\n",
       "        vertical-align: middle;\n",
       "    }\n",
       "\n",
       "    .dataframe tbody tr th {\n",
       "        vertical-align: top;\n",
       "    }\n",
       "\n",
       "    .dataframe thead th {\n",
       "        text-align: right;\n",
       "    }\n",
       "</style>\n",
       "<table border=\"1\" class=\"dataframe\">\n",
       "  <thead>\n",
       "    <tr style=\"text-align: right;\">\n",
       "      <th></th>\n",
       "      <th>Table Name</th>\n",
       "      <th>Column Count</th>\n",
       "      <th>column_names</th>\n",
       "      <th>Row Count</th>\n",
       "    </tr>\n",
       "  </thead>\n",
       "  <tbody>\n",
       "    <tr>\n",
       "      <th>0</th>\n",
       "      <td>sqlite_sequence</td>\n",
       "      <td>2</td>\n",
       "      <td>[name, seq]</td>\n",
       "      <td>7</td>\n",
       "    </tr>\n",
       "    <tr>\n",
       "      <th>1</th>\n",
       "      <td>Player_Attributes</td>\n",
       "      <td>42</td>\n",
       "      <td>[id, player_fifa_api_id, player_api_id, date, ...</td>\n",
       "      <td>183978</td>\n",
       "    </tr>\n",
       "    <tr>\n",
       "      <th>2</th>\n",
       "      <td>Player</td>\n",
       "      <td>7</td>\n",
       "      <td>[id, player_api_id, player_name, player_fifa_a...</td>\n",
       "      <td>11060</td>\n",
       "    </tr>\n",
       "    <tr>\n",
       "      <th>3</th>\n",
       "      <td>Match</td>\n",
       "      <td>115</td>\n",
       "      <td>[id, country_id, league_id, season, stage, dat...</td>\n",
       "      <td>25979</td>\n",
       "    </tr>\n",
       "    <tr>\n",
       "      <th>4</th>\n",
       "      <td>League</td>\n",
       "      <td>3</td>\n",
       "      <td>[id, country_id, name]</td>\n",
       "      <td>11</td>\n",
       "    </tr>\n",
       "    <tr>\n",
       "      <th>5</th>\n",
       "      <td>Country</td>\n",
       "      <td>2</td>\n",
       "      <td>[id, name]</td>\n",
       "      <td>11</td>\n",
       "    </tr>\n",
       "    <tr>\n",
       "      <th>6</th>\n",
       "      <td>Team</td>\n",
       "      <td>5</td>\n",
       "      <td>[id, team_api_id, team_fifa_api_id, team_long_...</td>\n",
       "      <td>299</td>\n",
       "    </tr>\n",
       "    <tr>\n",
       "      <th>7</th>\n",
       "      <td>Team_Attributes</td>\n",
       "      <td>25</td>\n",
       "      <td>[id, team_fifa_api_id, team_api_id, date, buil...</td>\n",
       "      <td>1458</td>\n",
       "    </tr>\n",
       "  </tbody>\n",
       "</table>\n",
       "</div>"
      ],
      "text/plain": [
       "          Table Name  Column Count  \\\n",
       "0    sqlite_sequence             2   \n",
       "1  Player_Attributes            42   \n",
       "2             Player             7   \n",
       "3              Match           115   \n",
       "4             League             3   \n",
       "5            Country             2   \n",
       "6               Team             5   \n",
       "7    Team_Attributes            25   \n",
       "\n",
       "                                        column_names  Row Count  \n",
       "0                                        [name, seq]          7  \n",
       "1  [id, player_fifa_api_id, player_api_id, date, ...     183978  \n",
       "2  [id, player_api_id, player_name, player_fifa_a...      11060  \n",
       "3  [id, country_id, league_id, season, stage, dat...      25979  \n",
       "4                             [id, country_id, name]         11  \n",
       "5                                         [id, name]         11  \n",
       "6  [id, team_api_id, team_fifa_api_id, team_long_...        299  \n",
       "7  [id, team_fifa_api_id, team_api_id, date, buil...       1458  "
      ]
     },
     "execution_count": 132,
     "metadata": {},
     "output_type": "execute_result"
    }
   ],
   "source": []
  },
  {
   "cell_type": "code",
   "execution_count": 136,
   "metadata": {},
   "outputs": [
    {
     "data": {
      "text/markdown": [
       "| Table Name        |   Column Count |   Row Count |\n",
       "|:------------------|---------------:|------------:|\n",
       "| sqlite_sequence   |              2 |           7 |\n",
       "| Player_Attributes |             42 |      183978 |\n",
       "| Player            |              7 |       11060 |\n",
       "| Match             |            115 |       25979 |\n",
       "| League            |              3 |          11 |\n",
       "| Country           |              2 |          11 |\n",
       "| Team              |              5 |         299 |\n",
       "| Team_Attributes   |             25 |        1458 |"
      ],
      "text/plain": [
       "<IPython.core.display.Markdown object>"
      ]
     },
     "execution_count": 136,
     "metadata": {},
     "output_type": "execute_result"
    }
   ],
   "source": [
    "Markdown(tabulate(\n",
    "tables[['Table Name','Column Count','Row Count']]\n",
    ", showindex=False, headers=\"keys\", tablefmt=\"pipe\"))"
   ]
  },
  {
   "cell_type": "code",
   "execution_count": 105,
   "metadata": {},
   "outputs": [
    {
     "data": {
      "text/html": [
       "<div>\n",
       "<style scoped>\n",
       "    .dataframe tbody tr th:only-of-type {\n",
       "        vertical-align: middle;\n",
       "    }\n",
       "\n",
       "    .dataframe tbody tr th {\n",
       "        vertical-align: top;\n",
       "    }\n",
       "\n",
       "    .dataframe thead th {\n",
       "        text-align: right;\n",
       "    }\n",
       "</style>\n",
       "<table border=\"1\" class=\"dataframe\">\n",
       "  <thead>\n",
       "    <tr style=\"text-align: right;\">\n",
       "      <th></th>\n",
       "      <th>table_catalog</th>\n",
       "      <th>table_schema</th>\n",
       "      <th>table_name</th>\n",
       "      <th>table_type</th>\n",
       "      <th>self_referencing_column_name</th>\n",
       "      <th>reference_generation</th>\n",
       "      <th>user_defined_type_catalog</th>\n",
       "      <th>user_defined_type_schema</th>\n",
       "      <th>user_defined_type_name</th>\n",
       "      <th>is_insertable_into</th>\n",
       "      <th>is_typed</th>\n",
       "      <th>commit_action</th>\n",
       "    </tr>\n",
       "  </thead>\n",
       "  <tbody>\n",
       "    <tr>\n",
       "      <th>0</th>\n",
       "      <td>memory</td>\n",
       "      <td>main</td>\n",
       "      <td>sqlite_sequence</td>\n",
       "      <td>VIEW</td>\n",
       "      <td>NaN</td>\n",
       "      <td>NaN</td>\n",
       "      <td>NaN</td>\n",
       "      <td>NaN</td>\n",
       "      <td>NaN</td>\n",
       "      <td>NO</td>\n",
       "      <td>NO</td>\n",
       "      <td>NaN</td>\n",
       "    </tr>\n",
       "    <tr>\n",
       "      <th>1</th>\n",
       "      <td>memory</td>\n",
       "      <td>main</td>\n",
       "      <td>Player_Attributes</td>\n",
       "      <td>VIEW</td>\n",
       "      <td>NaN</td>\n",
       "      <td>NaN</td>\n",
       "      <td>NaN</td>\n",
       "      <td>NaN</td>\n",
       "      <td>NaN</td>\n",
       "      <td>NO</td>\n",
       "      <td>NO</td>\n",
       "      <td>NaN</td>\n",
       "    </tr>\n",
       "    <tr>\n",
       "      <th>2</th>\n",
       "      <td>memory</td>\n",
       "      <td>main</td>\n",
       "      <td>Player</td>\n",
       "      <td>VIEW</td>\n",
       "      <td>NaN</td>\n",
       "      <td>NaN</td>\n",
       "      <td>NaN</td>\n",
       "      <td>NaN</td>\n",
       "      <td>NaN</td>\n",
       "      <td>NO</td>\n",
       "      <td>NO</td>\n",
       "      <td>NaN</td>\n",
       "    </tr>\n",
       "    <tr>\n",
       "      <th>3</th>\n",
       "      <td>memory</td>\n",
       "      <td>main</td>\n",
       "      <td>Match</td>\n",
       "      <td>VIEW</td>\n",
       "      <td>NaN</td>\n",
       "      <td>NaN</td>\n",
       "      <td>NaN</td>\n",
       "      <td>NaN</td>\n",
       "      <td>NaN</td>\n",
       "      <td>NO</td>\n",
       "      <td>NO</td>\n",
       "      <td>NaN</td>\n",
       "    </tr>\n",
       "    <tr>\n",
       "      <th>4</th>\n",
       "      <td>memory</td>\n",
       "      <td>main</td>\n",
       "      <td>League</td>\n",
       "      <td>VIEW</td>\n",
       "      <td>NaN</td>\n",
       "      <td>NaN</td>\n",
       "      <td>NaN</td>\n",
       "      <td>NaN</td>\n",
       "      <td>NaN</td>\n",
       "      <td>NO</td>\n",
       "      <td>NO</td>\n",
       "      <td>NaN</td>\n",
       "    </tr>\n",
       "    <tr>\n",
       "      <th>5</th>\n",
       "      <td>memory</td>\n",
       "      <td>main</td>\n",
       "      <td>Country</td>\n",
       "      <td>VIEW</td>\n",
       "      <td>NaN</td>\n",
       "      <td>NaN</td>\n",
       "      <td>NaN</td>\n",
       "      <td>NaN</td>\n",
       "      <td>NaN</td>\n",
       "      <td>NO</td>\n",
       "      <td>NO</td>\n",
       "      <td>NaN</td>\n",
       "    </tr>\n",
       "    <tr>\n",
       "      <th>6</th>\n",
       "      <td>memory</td>\n",
       "      <td>main</td>\n",
       "      <td>Team</td>\n",
       "      <td>VIEW</td>\n",
       "      <td>NaN</td>\n",
       "      <td>NaN</td>\n",
       "      <td>NaN</td>\n",
       "      <td>NaN</td>\n",
       "      <td>NaN</td>\n",
       "      <td>NO</td>\n",
       "      <td>NO</td>\n",
       "      <td>NaN</td>\n",
       "    </tr>\n",
       "    <tr>\n",
       "      <th>7</th>\n",
       "      <td>memory</td>\n",
       "      <td>main</td>\n",
       "      <td>Team_Attributes</td>\n",
       "      <td>VIEW</td>\n",
       "      <td>NaN</td>\n",
       "      <td>NaN</td>\n",
       "      <td>NaN</td>\n",
       "      <td>NaN</td>\n",
       "      <td>NaN</td>\n",
       "      <td>NO</td>\n",
       "      <td>NO</td>\n",
       "      <td>NaN</td>\n",
       "    </tr>\n",
       "  </tbody>\n",
       "</table>\n",
       "</div>"
      ],
      "text/plain": [
       "  table_catalog table_schema         table_name table_type  \\\n",
       "0        memory         main    sqlite_sequence       VIEW   \n",
       "1        memory         main  Player_Attributes       VIEW   \n",
       "2        memory         main             Player       VIEW   \n",
       "3        memory         main              Match       VIEW   \n",
       "4        memory         main             League       VIEW   \n",
       "5        memory         main            Country       VIEW   \n",
       "6        memory         main               Team       VIEW   \n",
       "7        memory         main    Team_Attributes       VIEW   \n",
       "\n",
       "   self_referencing_column_name  reference_generation  \\\n",
       "0                           NaN                   NaN   \n",
       "1                           NaN                   NaN   \n",
       "2                           NaN                   NaN   \n",
       "3                           NaN                   NaN   \n",
       "4                           NaN                   NaN   \n",
       "5                           NaN                   NaN   \n",
       "6                           NaN                   NaN   \n",
       "7                           NaN                   NaN   \n",
       "\n",
       "   user_defined_type_catalog  user_defined_type_schema  \\\n",
       "0                        NaN                       NaN   \n",
       "1                        NaN                       NaN   \n",
       "2                        NaN                       NaN   \n",
       "3                        NaN                       NaN   \n",
       "4                        NaN                       NaN   \n",
       "5                        NaN                       NaN   \n",
       "6                        NaN                       NaN   \n",
       "7                        NaN                       NaN   \n",
       "\n",
       "   user_defined_type_name is_insertable_into is_typed commit_action  \n",
       "0                     NaN                 NO       NO           NaN  \n",
       "1                     NaN                 NO       NO           NaN  \n",
       "2                     NaN                 NO       NO           NaN  \n",
       "3                     NaN                 NO       NO           NaN  \n",
       "4                     NaN                 NO       NO           NaN  \n",
       "5                     NaN                 NO       NO           NaN  \n",
       "6                     NaN                 NO       NO           NaN  \n",
       "7                     NaN                 NO       NO           NaN  "
      ]
     },
     "execution_count": 105,
     "metadata": {},
     "output_type": "execute_result"
    }
   ],
   "source": [
    "con.query(\"\"\"--sql\n",
    "SELECT *\n",
    "FROM information_schema.tables\n",
    "GROUP BY table_name\n",
    "\"\"\")"
   ]
  },
  {
   "cell_type": "code",
   "execution_count": 99,
   "metadata": {},
   "outputs": [
    {
     "data": {
      "text/markdown": [
       "| Table Name        |   Column Count |\n",
       "|:------------------|---------------:|\n",
       "| sqlite_sequence   |              2 |\n",
       "| Player_Attributes |             42 |\n",
       "| Player            |              7 |\n",
       "| Match             |            115 |\n",
       "| League            |              3 |\n",
       "| Country           |              2 |\n",
       "| Team              |              5 |\n",
       "| Team_Attributes   |             25 |"
      ],
      "text/plain": [
       "<IPython.core.display.Markdown object>"
      ]
     },
     "execution_count": 99,
     "metadata": {},
     "output_type": "execute_result"
    }
   ],
   "source": [
    "Markdown(tabulate(\n",
    "con.query(\n",
    "            \"\"\"--sql\n",
    "SELECT table_name as 'Table Name', COUNT(column_name) AS 'Column Count' FROM information_schema.columns GROUP BY table_name\n",
    "\"\"\"\n",
    "        ).to_df()\n",
    ", showindex=False, headers=\"keys\", tablefmt=\"pipe\"))"
   ]
  },
  {
   "cell_type": "code",
   "execution_count": 6,
   "metadata": {},
   "outputs": [],
   "source": [
    "# tables_writer=pd.ExcelWriter('tables.xlsx')\n",
    "# for i, tab in enumerate(tables.explode('column_names').groupby('table_name')):\n",
    "#     df_to_write=tab[1]\n",
    "#     df_to_write.rename(columns={'column_names':tab[0]},inplace=True)\n",
    "#     df_to_write.to_excel(tables_writer,columns=[tab[0]],startcol=i,index=False)\n",
    "# tables_writer.close()"
   ]
  },
  {
   "cell_type": "code",
   "execution_count": null,
   "metadata": {},
   "outputs": [],
   "source": [
    "con.query(\n",
    "    \"\"\"--sql\n",
    "SELECT count(distinct player_api_id) FROM Player\"\"\"\n",
    ").fetchone()[0]"
   ]
  },
  {
   "attachments": {},
   "cell_type": "markdown",
   "metadata": {},
   "source": [
    "### Player attributes"
   ]
  },
  {
   "attachments": {},
   "cell_type": "markdown",
   "metadata": {},
   "source": [
    "#### How many players are in the player table?"
   ]
  },
  {
   "cell_type": "code",
   "execution_count": 12,
   "metadata": {},
   "outputs": [
    {
     "data": {
      "text/plain": [
       "11060"
      ]
     },
     "execution_count": 12,
     "metadata": {},
     "output_type": "execute_result"
    }
   ],
   "source": [
    "con.query(\n",
    "    \"\"\"--sql\n",
    "SELECT count(distinct player_api_id) FROM Player\"\"\"\n",
    ").fetchone()[0]"
   ]
  },
  {
   "attachments": {},
   "cell_type": "markdown",
   "metadata": {},
   "source": [
    "#### How many entries are in the player attributes table?"
   ]
  },
  {
   "cell_type": "code",
   "execution_count": 13,
   "metadata": {},
   "outputs": [
    {
     "data": {
      "text/plain": [
       "183978"
      ]
     },
     "execution_count": 13,
     "metadata": {},
     "output_type": "execute_result"
    }
   ],
   "source": [
    "con.query(\n",
    "    \"\"\"--sql\n",
    "SELECT count(player_api_id) from Player_Attributes WHERE player_api_id IN (SELECT player_api_id FROM Player)\"\"\"\n",
    ").fetchone()[0]"
   ]
  },
  {
   "attachments": {},
   "cell_type": "markdown",
   "metadata": {},
   "source": [
    "#### How many different entries can a player have?"
   ]
  },
  {
   "cell_type": "code",
   "execution_count": 19,
   "metadata": {},
   "outputs": [
    {
     "data": {
      "text/html": [
       "<div>\n",
       "<style scoped>\n",
       "    .dataframe tbody tr th:only-of-type {\n",
       "        vertical-align: middle;\n",
       "    }\n",
       "\n",
       "    .dataframe tbody tr th {\n",
       "        vertical-align: top;\n",
       "    }\n",
       "\n",
       "    .dataframe thead th {\n",
       "        text-align: right;\n",
       "    }\n",
       "</style>\n",
       "<table border=\"1\" class=\"dataframe\">\n",
       "  <thead>\n",
       "    <tr style=\"text-align: right;\">\n",
       "      <th></th>\n",
       "      <th>Max entries</th>\n",
       "      <th>Min entries</th>\n",
       "    </tr>\n",
       "  </thead>\n",
       "  <tbody>\n",
       "    <tr>\n",
       "      <th>0</th>\n",
       "      <td>56</td>\n",
       "      <td>2</td>\n",
       "    </tr>\n",
       "  </tbody>\n",
       "</table>\n",
       "</div>"
      ],
      "text/plain": [
       "   Max entries  Min entries\n",
       "0           56            2"
      ]
     },
     "execution_count": 19,
     "metadata": {},
     "output_type": "execute_result"
    }
   ],
   "source": [
    "con.query(\n",
    "    f\"\"\"--sql\n",
    "SELECT MAX(num_entries) as \"Max entries\",\n",
    "    MIN(num_entries) as \"Min entries\"\n",
    "FROM(\n",
    "        SELECT player_api_id,\n",
    "            count(player_api_id) as num_entries\n",
    "        FROM Player_Attributes\n",
    "        GROUP BY player_api_id\n",
    "    )\n",
    "    \"\"\"\n",
    ").to_df()"
   ]
  },
  {
   "cell_type": "code",
   "execution_count": 72,
   "metadata": {},
   "outputs": [
    {
     "data": {
      "text/html": [
       "<div>\n",
       "<style scoped>\n",
       "    .dataframe tbody tr th:only-of-type {\n",
       "        vertical-align: middle;\n",
       "    }\n",
       "\n",
       "    .dataframe tbody tr th {\n",
       "        vertical-align: top;\n",
       "    }\n",
       "\n",
       "    .dataframe thead th {\n",
       "        text-align: right;\n",
       "    }\n",
       "</style>\n",
       "<table border=\"1\" class=\"dataframe\">\n",
       "  <thead>\n",
       "    <tr style=\"text-align: right;\">\n",
       "      <th></th>\n",
       "      <th>id</th>\n",
       "      <th>player_api_id</th>\n",
       "      <th>player_name</th>\n",
       "      <th>player_fifa_api_id</th>\n",
       "      <th>birthday</th>\n",
       "      <th>height</th>\n",
       "      <th>weight</th>\n",
       "    </tr>\n",
       "  </thead>\n",
       "  <tbody>\n",
       "    <tr>\n",
       "      <th>0</th>\n",
       "      <td>6176</td>\n",
       "      <td>30981</td>\n",
       "      <td>Lionel Messi</td>\n",
       "      <td>158023</td>\n",
       "      <td>1987-06-24 00:00:00</td>\n",
       "      <td>170.18</td>\n",
       "      <td>159</td>\n",
       "    </tr>\n",
       "  </tbody>\n",
       "</table>\n",
       "</div>"
      ],
      "text/plain": [
       "     id player_api_id   player_name player_fifa_api_id             birthday  \\\n",
       "0  6176         30981  Lionel Messi             158023  1987-06-24 00:00:00   \n",
       "\n",
       "   height weight  \n",
       "0  170.18    159  "
      ]
     },
     "execution_count": 72,
     "metadata": {},
     "output_type": "execute_result"
    }
   ],
   "source": [
    "con.query(\n",
    "    \"\"\"--sql\n",
    "    SELECT *\n",
    "    FROM Player\n",
    "    WHERE player_api_id = (SELECT DISTINCT player_api_id FROM Player_Attributes WHERE overall_rating = (SELECT MAX(overall_rating) FROM Player_Attributes))\"\"\"\n",
    ").to_df()"
   ]
  },
  {
   "cell_type": "code",
   "execution_count": 82,
   "metadata": {},
   "outputs": [
    {
     "data": {
      "text/plain": [
       "array([[<Axes: title={'center': 'overall_rating'}>,\n",
       "        <Axes: title={'center': 'potential'}>]], dtype=object)"
      ]
     },
     "execution_count": 82,
     "metadata": {},
     "output_type": "execute_result"
    },
    {
     "data": {
      "image/png": "[encoded data removed]",
      "text/plain": [
       "<Figure size 640x480 with 2 Axes>"
      ]
     },
     "metadata": {},
     "output_type": "display_data"
    }
   ],
   "source": [
    "rating_potential=con.query(\n",
    "    \"\"\"--sql\n",
    "    SELECT overall_rating, potential\n",
    "    FROM Player_Attributes p\n",
    "    JOIN(\n",
    "    SELECT player_api_id, MAX(date) AS max_date FROM Player_attributes GROUP BY player_api_id) sub \n",
    "    ON p.player_api_id=sub.player_api_id AND p.date=sub.max_date\"\"\"\n",
    ").to_df()\n",
    "rating_potential.dropna(inplace=True)\n",
    "rating_potential=rating_potential.astype(int)\n",
    "rating_potential.hist()"
   ]
  },
  {
   "cell_type": "code",
   "execution_count": 10,
   "metadata": {},
   "outputs": [
    {
     "data": {
      "text/markdown": [
       "|   id |   player_fifa_api_id |   player_api_id | date                |   overall_rating |   potential | preferred_foot   | attacking_work_rate   | defensive_work_rate   |   crossing |   finishing |   heading_accuracy |   short_passing |   volleys |   dribbling |   curve |   free_kick_accuracy |   long_passing |   ball_control |   acceleration |   sprint_speed |   agility |   reactions |   balance |   shot_power |   jumping |   stamina |   strength |   long_shots |   aggression |   interceptions |   positioning |   vision |   penalties |   marking |   standing_tackle |   sliding_tackle |   gk_diving |   gk_handling |   gk_kicking |   gk_positioning |   gk_reflexes |\n",
       "|-----:|---------------------:|----------------:|:--------------------|-----------------:|------------:|:-----------------|:----------------------|:----------------------|-----------:|------------:|-------------------:|----------------:|----------:|------------:|--------:|---------------------:|---------------:|---------------:|---------------:|---------------:|----------:|------------:|----------:|-------------:|----------:|----------:|-----------:|-------------:|-------------:|----------------:|--------------:|---------:|------------:|----------:|------------------:|-----------------:|------------:|--------------:|-------------:|-----------------:|--------------:|\n",
       "|    1 |               218353 |          505942 | 2016-02-18 00:00:00 |               67 |          71 | right            | medium                | medium                |         49 |          44 |                 71 |              61 |        44 |          51 |      45 |                   39 |             64 |             49 |             60 |             64 |        59 |          47 |        65 |           55 |        58 |        54 |         76 |           35 |           71 |              70 |            45 |       54 |          48 |        65 |                69 |               69 |           6 |            11 |           10 |                8 |             8 |\n",
       "|    2 |               218353 |          505942 | 2015-11-19 00:00:00 |               67 |          71 | right            | medium                | medium                |         49 |          44 |                 71 |              61 |        44 |          51 |      45 |                   39 |             64 |             49 |             60 |             64 |        59 |          47 |        65 |           55 |        58 |        54 |         76 |           35 |           71 |              70 |            45 |       54 |          48 |        65 |                69 |               69 |           6 |            11 |           10 |                8 |             8 |\n",
       "|    3 |               218353 |          505942 | 2015-09-21 00:00:00 |               62 |          66 | right            | medium                | medium                |         49 |          44 |                 71 |              61 |        44 |          51 |      45 |                   39 |             64 |             49 |             60 |             64 |        59 |          47 |        65 |           55 |        58 |        54 |         76 |           35 |           63 |              41 |            45 |       54 |          48 |        65 |                66 |               69 |           6 |            11 |           10 |                8 |             8 |\n",
       "|    4 |               218353 |          505942 | 2015-03-20 00:00:00 |               61 |          65 | right            | medium                | medium                |         48 |          43 |                 70 |              60 |        43 |          50 |      44 |                   38 |             63 |             48 |             60 |             64 |        59 |          46 |        65 |           54 |        58 |        54 |         76 |           34 |           62 |              40 |            44 |       53 |          47 |        62 |                63 |               66 |           5 |            10 |            9 |                7 |             7 |\n",
       "|    5 |               218353 |          505942 | 2007-02-22 00:00:00 |               61 |          65 | right            | medium                | medium                |         48 |          43 |                 70 |              60 |        43 |          50 |      44 |                   38 |             63 |             48 |             60 |             64 |        59 |          46 |        65 |           54 |        58 |        54 |         76 |           34 |           62 |              40 |            44 |       53 |          47 |        62 |                63 |               66 |           5 |            10 |            9 |                7 |             7 |"
      ],
      "text/plain": [
       "<IPython.core.display.Markdown object>"
      ]
     },
     "execution_count": 10,
     "metadata": {},
     "output_type": "execute_result"
    }
   ],
   "source": [
    "Markdown(tabulate(con.query(\n",
    "    \"\"\"--sql\n",
    "SELECT * from Player_Attributes LIMIT 5\"\"\"\n",
    ").to_df(), showindex=False, headers=\"keys\", tablefmt=\"pipe\"))"
   ]
  },
  {
   "cell_type": "code",
   "execution_count": 54,
   "metadata": {},
   "outputs": [
    {
     "data": {
      "text/markdown": [
       "|   id |   player_api_id | player_name        |   player_fifa_api_id | birthday            |   height |   weight |\n",
       "|-----:|----------------:|:-------------------|---------------------:|:--------------------|---------:|---------:|\n",
       "|    1 |          505942 | Aaron Appindangoye |               218353 | 1992-02-29 00:00:00 |   182.88 |      187 |\n",
       "|    2 |          155782 | Aaron Cresswell    |               189615 | 1989-12-15 00:00:00 |   170.18 |      146 |\n",
       "|    3 |          162549 | Aaron Doran        |               186170 | 1991-05-13 00:00:00 |   170.18 |      163 |\n",
       "|    4 |           30572 | Aaron Galindo      |               140161 | 1982-05-08 00:00:00 |   182.88 |      198 |\n",
       "|    5 |           23780 | Aaron Hughes       |                17725 | 1979-11-08 00:00:00 |   182.88 |      154 |"
      ],
      "text/plain": [
       "<IPython.core.display.Markdown object>"
      ]
     },
     "execution_count": 54,
     "metadata": {},
     "output_type": "execute_result"
    }
   ],
   "source": [
    "Markdown(tabulate(con.query(\n",
    "    f\"\"\"--sql\n",
    "SELECT * from Player LIMIT 5\"\"\"\n",
    ").to_df(), showindex=False, headers=\"keys\", tablefmt=\"pipe\"))"
   ]
  },
  {
   "attachments": {},
   "cell_type": "markdown",
   "metadata": {},
   "source": [
    "### Teams"
   ]
  },
  {
   "cell_type": "code",
   "execution_count": 86,
   "metadata": {},
   "outputs": [
    {
     "data": {
      "text/html": [
       "<div>\n",
       "<style scoped>\n",
       "    .dataframe tbody tr th:only-of-type {\n",
       "        vertical-align: middle;\n",
       "    }\n",
       "\n",
       "    .dataframe tbody tr th {\n",
       "        vertical-align: top;\n",
       "    }\n",
       "\n",
       "    .dataframe thead th {\n",
       "        text-align: right;\n",
       "    }\n",
       "</style>\n",
       "<table border=\"1\" class=\"dataframe\">\n",
       "  <thead>\n",
       "    <tr style=\"text-align: right;\">\n",
       "      <th></th>\n",
       "      <th>count_star()</th>\n",
       "    </tr>\n",
       "  </thead>\n",
       "  <tbody>\n",
       "    <tr>\n",
       "      <th>0</th>\n",
       "      <td>299</td>\n",
       "    </tr>\n",
       "  </tbody>\n",
       "</table>\n",
       "</div>"
      ],
      "text/plain": [
       "   count_star()\n",
       "0           299"
      ]
     },
     "execution_count": 86,
     "metadata": {},
     "output_type": "execute_result"
    }
   ],
   "source": [
    "con.query(\n",
    "    f\"\"\"--sql\n",
    "SELECT count(*) from Team\"\"\"\n",
    ").to_df()"
   ]
  },
  {
   "cell_type": "code",
   "execution_count": 88,
   "metadata": {},
   "outputs": [
    {
     "data": {
      "text/html": [
       "<div>\n",
       "<style scoped>\n",
       "    .dataframe tbody tr th:only-of-type {\n",
       "        vertical-align: middle;\n",
       "    }\n",
       "\n",
       "    .dataframe tbody tr th {\n",
       "        vertical-align: top;\n",
       "    }\n",
       "\n",
       "    .dataframe thead th {\n",
       "        text-align: right;\n",
       "    }\n",
       "</style>\n",
       "<table border=\"1\" class=\"dataframe\">\n",
       "  <thead>\n",
       "    <tr style=\"text-align: right;\">\n",
       "      <th></th>\n",
       "      <th>count(DISTINCT team_api_id)</th>\n",
       "    </tr>\n",
       "  </thead>\n",
       "  <tbody>\n",
       "    <tr>\n",
       "      <th>0</th>\n",
       "      <td>288</td>\n",
       "    </tr>\n",
       "  </tbody>\n",
       "</table>\n",
       "</div>"
      ],
      "text/plain": [
       "   count(DISTINCT team_api_id)\n",
       "0                          288"
      ]
     },
     "execution_count": 88,
     "metadata": {},
     "output_type": "execute_result"
    }
   ],
   "source": [
    "con.query(\n",
    "    f\"\"\"--sql\n",
    "SELECT count(distinct team_api_id) from Team_Attributes\"\"\"\n",
    ").to_df()"
   ]
  },
  {
   "cell_type": "code",
   "execution_count": 83,
   "metadata": {},
   "outputs": [
    {
     "data": {
      "text/markdown": [
       "|   id |   team_api_id |   team_fifa_api_id | team_long_name    | team_short_name   |\n",
       "|-----:|--------------:|-------------------:|:------------------|:------------------|\n",
       "|    1 |          9987 |                673 | KRC Genk          | GEN               |\n",
       "|    2 |          9993 |                675 | Beerschot AC      | BAC               |\n",
       "|    3 |         10000 |              15005 | SV Zulte-Waregem  | ZUL               |\n",
       "|    4 |          9994 |               2007 | Sporting Lokeren  | LOK               |\n",
       "|    5 |          9984 |               1750 | KSV Cercle Brugge | CEB               |"
      ],
      "text/plain": [
       "<IPython.core.display.Markdown object>"
      ]
     },
     "execution_count": 83,
     "metadata": {},
     "output_type": "execute_result"
    }
   ],
   "source": [
    "Markdown(tabulate(con.query(\n",
    "    f\"\"\"--sql\n",
    "SELECT * from Team LIMIT 5\"\"\"\n",
    ").to_df(), showindex=False, headers=\"keys\", tablefmt=\"pipe\"))"
   ]
  },
  {
   "cell_type": "code",
   "execution_count": 84,
   "metadata": {},
   "outputs": [
    {
     "data": {
      "text/markdown": [
       "|   id |   team_fifa_api_id |   team_api_id | date                |   buildUpPlaySpeed | buildUpPlaySpeedClass   |   buildUpPlayDribbling | buildUpPlayDribblingClass   |   buildUpPlayPassing | buildUpPlayPassingClass   | buildUpPlayPositioningClass   |   chanceCreationPassing | chanceCreationPassingClass   |   chanceCreationCrossing | chanceCreationCrossingClass   |   chanceCreationShooting | chanceCreationShootingClass   | chanceCreationPositioningClass   |   defencePressure | defencePressureClass   |   defenceAggression | defenceAggressionClass   |   defenceTeamWidth | defenceTeamWidthClass   | defenceDefenderLineClass   |\n",
       "|-----:|-------------------:|--------------:|:--------------------|-------------------:|:------------------------|-----------------------:|:----------------------------|---------------------:|:--------------------------|:------------------------------|------------------------:|:-----------------------------|-------------------------:|:------------------------------|-------------------------:|:------------------------------|:---------------------------------|------------------:|:-----------------------|--------------------:|:-------------------------|-------------------:|:------------------------|:---------------------------|\n",
       "|    1 |                434 |          9930 | 2010-02-22 00:00:00 |                 60 | Balanced                |                    nan | Little                      |                   50 | Mixed                     | Organised                     |                      60 | Normal                       |                       65 | Normal                        |                       55 | Normal                        | Organised                        |                50 | Medium                 |                  55 | Press                    |                 45 | Normal                  | Cover                      |\n",
       "|    2 |                434 |          9930 | 2014-09-19 00:00:00 |                 52 | Balanced                |                     48 | Normal                      |                   56 | Mixed                     | Organised                     |                      54 | Normal                       |                       63 | Normal                        |                       64 | Normal                        | Organised                        |                47 | Medium                 |                  44 | Press                    |                 54 | Normal                  | Cover                      |\n",
       "|    3 |                434 |          9930 | 2015-09-10 00:00:00 |                 47 | Balanced                |                     41 | Normal                      |                   54 | Mixed                     | Organised                     |                      54 | Normal                       |                       63 | Normal                        |                       64 | Normal                        | Organised                        |                47 | Medium                 |                  44 | Press                    |                 54 | Normal                  | Cover                      |\n",
       "|    4 |                 77 |          8485 | 2010-02-22 00:00:00 |                 70 | Fast                    |                    nan | Little                      |                   70 | Long                      | Organised                     |                      70 | Risky                        |                       70 | Lots                          |                       70 | Lots                          | Organised                        |                60 | Medium                 |                  70 | Double                   |                 70 | Wide                    | Cover                      |\n",
       "|    5 |                 77 |          8485 | 2011-02-22 00:00:00 |                 47 | Balanced                |                    nan | Little                      |                   52 | Mixed                     | Organised                     |                      53 | Normal                       |                       48 | Normal                        |                       52 | Normal                        | Organised                        |                47 | Medium                 |                  47 | Press                    |                 52 | Normal                  | Cover                      |"
      ],
      "text/plain": [
       "<IPython.core.display.Markdown object>"
      ]
     },
     "execution_count": 84,
     "metadata": {},
     "output_type": "execute_result"
    }
   ],
   "source": [
    "Markdown(tabulate(con.query(\n",
    "    f\"\"\"--sql\n",
    "SELECT * from Team_Attributes LIMIT 5\"\"\"\n",
    ").to_df(), showindex=False, headers=\"keys\", tablefmt=\"pipe\"))"
   ]
  },
  {
   "cell_type": "code",
   "execution_count": 97,
   "metadata": {},
   "outputs": [
    {
     "data": {
      "text/markdown": [
       "|   id |   country_id |   league_id | season    |   stage | date                |   match_api_id |   home_team_api_id |   away_team_api_id |   home_team_goal |   away_team_goal |   home_player_X1 |   home_player_X2 |   home_player_X3 |   home_player_X4 |   home_player_X5 |   home_player_X6 |   home_player_X7 |   home_player_X8 |   home_player_X9 |   home_player_X10 |   home_player_X11 |   away_player_X1 |   away_player_X2 |   away_player_X3 |   away_player_X4 |   away_player_X5 |   away_player_X6 |   away_player_X7 |   away_player_X8 |   away_player_X9 |   away_player_X10 |   away_player_X11 |   home_player_Y1 |   home_player_Y2 |   home_player_Y3 |   home_player_Y4 |   home_player_Y5 |   home_player_Y6 |   home_player_Y7 |   home_player_Y8 |   home_player_Y9 |   home_player_Y10 |   home_player_Y11 |   away_player_Y1 |   away_player_Y2 |   away_player_Y3 |   away_player_Y4 |   away_player_Y5 |   away_player_Y6 |   away_player_Y7 |   away_player_Y8 |   away_player_Y9 |   away_player_Y10 |   away_player_Y11 |   home_player_1 |   home_player_2 |   home_player_3 |   home_player_4 |   home_player_5 |   home_player_6 |   home_player_7 |   home_player_8 |   home_player_9 |   home_player_10 |   home_player_11 |   away_player_1 |   away_player_2 |   away_player_3 |   away_player_4 |   away_player_5 |   away_player_6 |   away_player_7 |   away_player_8 |   away_player_9 |   away_player_10 |   away_player_11 |   goal |   shoton |   shotoff |   foulcommit |   card |   cross |   corner |   possession |   B365H |   B365D |   B365A |   BWH |   BWD |   BWA |   IWH |   IWD |   IWA |   LBH |   LBD |   LBA |   PSH |   PSD |   PSA |   WHH |   WHD |   WHA |   SJH |   SJD |   SJA |   VCH |   VCD |   VCA |   GBH |   GBD |   GBA |   BSH |   BSD |   BSA |\n",
       "|-----:|-------------:|------------:|:----------|--------:|:--------------------|---------------:|-------------------:|-------------------:|-----------------:|-----------------:|-----------------:|-----------------:|-----------------:|-----------------:|-----------------:|-----------------:|-----------------:|-----------------:|-----------------:|------------------:|------------------:|-----------------:|-----------------:|-----------------:|-----------------:|-----------------:|-----------------:|-----------------:|-----------------:|-----------------:|------------------:|------------------:|-----------------:|-----------------:|-----------------:|-----------------:|-----------------:|-----------------:|-----------------:|-----------------:|-----------------:|------------------:|------------------:|-----------------:|-----------------:|-----------------:|-----------------:|-----------------:|-----------------:|-----------------:|-----------------:|-----------------:|------------------:|------------------:|----------------:|----------------:|----------------:|----------------:|----------------:|----------------:|----------------:|----------------:|----------------:|-----------------:|-----------------:|----------------:|----------------:|----------------:|----------------:|----------------:|----------------:|----------------:|----------------:|----------------:|-----------------:|-----------------:|-------:|---------:|----------:|-------------:|-------:|--------:|---------:|-------------:|--------:|--------:|--------:|------:|------:|------:|------:|------:|------:|------:|------:|------:|------:|------:|------:|------:|------:|------:|------:|------:|------:|------:|------:|------:|------:|------:|------:|------:|------:|------:|\n",
       "|    1 |            1 |           1 | 2008/2009 |       1 | 2008-08-17 00:00:00 |         492473 |               9987 |               9993 |                1 |                1 |              nan |              nan |              nan |              nan |              nan |              nan |              nan |              nan |              nan |               nan |               nan |              nan |              nan |              nan |              nan |              nan |              nan |              nan |              nan |              nan |               nan |               nan |              nan |              nan |              nan |              nan |              nan |              nan |              nan |              nan |              nan |               nan |               nan |              nan |              nan |              nan |              nan |              nan |              nan |              nan |              nan |              nan |               nan |               nan |             nan |             nan |             nan |             nan |             nan |             nan |             nan |             nan |             nan |              nan |              nan |             nan |             nan |             nan |             nan |             nan |             nan |             nan |             nan |             nan |              nan |              nan |    nan |      nan |       nan |          nan |    nan |     nan |      nan |          nan |    1.73 |    3.4  |    5    |  1.75 |  3.35 |  4.2  |  1.85 |   3.2 |   3.5 |  1.8  |   3.3 |  3.75 |   nan |   nan |   nan |  1.7  |  3.3  |  4.33 |  1.9  |   3.3 |  4    |  1.65 |  3.4  |  4.5  |  1.78 |  3.25 |  4    |  1.73 |  3.4  |  4.2  |\n",
       "|    2 |            1 |           1 | 2008/2009 |       1 | 2008-08-16 00:00:00 |         492474 |              10000 |               9994 |                0 |                0 |              nan |              nan |              nan |              nan |              nan |              nan |              nan |              nan |              nan |               nan |               nan |              nan |              nan |              nan |              nan |              nan |              nan |              nan |              nan |              nan |               nan |               nan |              nan |              nan |              nan |              nan |              nan |              nan |              nan |              nan |              nan |               nan |               nan |              nan |              nan |              nan |              nan |              nan |              nan |              nan |              nan |              nan |               nan |               nan |             nan |             nan |             nan |             nan |             nan |             nan |             nan |             nan |             nan |              nan |              nan |             nan |             nan |             nan |             nan |             nan |             nan |             nan |             nan |             nan |              nan |              nan |    nan |      nan |       nan |          nan |    nan |     nan |      nan |          nan |    1.95 |    3.2  |    3.6  |  1.8  |  3.3  |  3.95 |  1.9  |   3.2 |   3.5 |  1.9  |   3.2 |  3.5  |   nan |   nan |   nan |  1.83 |  3.3  |  3.6  |  1.95 |   3.3 |  3.8  |  2    |  3.25 |  3.25 |  1.85 |  3.25 |  3.75 |  1.91 |  3.25 |  3.6  |\n",
       "|    3 |            1 |           1 | 2008/2009 |       1 | 2008-08-16 00:00:00 |         492475 |               9984 |               8635 |                0 |                3 |              nan |              nan |              nan |              nan |              nan |              nan |              nan |              nan |              nan |               nan |               nan |              nan |              nan |              nan |              nan |              nan |              nan |              nan |              nan |              nan |               nan |               nan |              nan |              nan |              nan |              nan |              nan |              nan |              nan |              nan |              nan |               nan |               nan |              nan |              nan |              nan |              nan |              nan |              nan |              nan |              nan |              nan |               nan |               nan |             nan |             nan |             nan |             nan |             nan |             nan |             nan |             nan |             nan |              nan |              nan |             nan |             nan |             nan |             nan |             nan |             nan |             nan |             nan |             nan |              nan |              nan |    nan |      nan |       nan |          nan |    nan |     nan |      nan |          nan |    2.38 |    3.3  |    2.75 |  2.4  |  3.3  |  2.55 |  2.6  |   3.1 |   2.3 |  2.5  |   3.2 |  2.5  |   nan |   nan |   nan |  2.5  |  3.25 |  2.4  |  2.63 |   3.3 |  2.5  |  2.35 |  3.25 |  2.65 |  2.5  |  3.2  |  2.5  |  2.3  |  3.2  |  2.75 |\n",
       "|    4 |            1 |           1 | 2008/2009 |       1 | 2008-08-17 00:00:00 |         492476 |               9991 |               9998 |                5 |                0 |              nan |              nan |              nan |              nan |              nan |              nan |              nan |              nan |              nan |               nan |               nan |              nan |              nan |              nan |              nan |              nan |              nan |              nan |              nan |              nan |               nan |               nan |              nan |              nan |              nan |              nan |              nan |              nan |              nan |              nan |              nan |               nan |               nan |              nan |              nan |              nan |              nan |              nan |              nan |              nan |              nan |              nan |               nan |               nan |             nan |             nan |             nan |             nan |             nan |             nan |             nan |             nan |             nan |              nan |              nan |             nan |             nan |             nan |             nan |             nan |             nan |             nan |             nan |             nan |              nan |              nan |    nan |      nan |       nan |          nan |    nan |     nan |      nan |          nan |    1.44 |    3.75 |    7.5  |  1.4  |  4    |  6.8  |  1.4  |   3.9 |   6   |  1.44 |   3.6 |  6.5  |   nan |   nan |   nan |  1.44 |  3.75 |  6    |  1.44 |   4   |  7.5  |  1.45 |  3.75 |  6.5  |  1.5  |  3.75 |  5.5  |  1.44 |  3.75 |  6.5  |\n",
       "|    5 |            1 |           1 | 2008/2009 |       1 | 2008-08-16 00:00:00 |         492477 |               7947 |               9985 |                1 |                3 |              nan |              nan |              nan |              nan |              nan |              nan |              nan |              nan |              nan |               nan |               nan |              nan |              nan |              nan |              nan |              nan |              nan |              nan |              nan |              nan |               nan |               nan |              nan |              nan |              nan |              nan |              nan |              nan |              nan |              nan |              nan |               nan |               nan |              nan |              nan |              nan |              nan |              nan |              nan |              nan |              nan |              nan |               nan |               nan |             nan |             nan |             nan |             nan |             nan |             nan |             nan |             nan |             nan |              nan |              nan |             nan |             nan |             nan |             nan |             nan |             nan |             nan |             nan |             nan |              nan |              nan |    nan |      nan |       nan |          nan |    nan |     nan |      nan |          nan |    5    |    3.5  |    1.65 |  5    |  3.5  |  1.6  |  4    |   3.3 |   1.7 |  4    |   3.4 |  1.72 |   nan |   nan |   nan |  4.2  |  3.4  |  1.7  |  4.5  |   3.5 |  1.73 |  4.5  |  3.4  |  1.65 |  4.5  |  3.5  |  1.65 |  4.75 |  3.3  |  1.67 |"
      ],
      "text/plain": [
       "<IPython.core.display.Markdown object>"
      ]
     },
     "execution_count": 97,
     "metadata": {},
     "output_type": "execute_result"
    }
   ],
   "source": [
    "Markdown(tabulate(con.query(\n",
    "    f\"\"\"--sql\n",
    "SELECT * from Match LIMIT 5\"\"\"\n",
    ").to_df(), showindex=False, headers=\"keys\", tablefmt=\"pipe\"))"
   ]
  },
  {
   "cell_type": "code",
   "execution_count": 96,
   "metadata": {},
   "outputs": [
    {
     "data": {
      "text/markdown": [
       "|    id |   country_id | name                     |\n",
       "|------:|-------------:|:-------------------------|\n",
       "|     1 |            1 | Belgium Jupiler League   |\n",
       "|  1729 |         1729 | England Premier League   |\n",
       "|  4769 |         4769 | France Ligue 1           |\n",
       "|  7809 |         7809 | Germany 1. Bundesliga    |\n",
       "| 10257 |        10257 | Italy Serie A            |\n",
       "| 13274 |        13274 | Netherlands Eredivisie   |\n",
       "| 15722 |        15722 | Poland Ekstraklasa       |\n",
       "| 17642 |        17642 | Portugal Liga ZON Sagres |\n",
       "| 19694 |        19694 | Scotland Premier League  |\n",
       "| 21518 |        21518 | Spain LIGA BBVA          |\n",
       "| 24558 |        24558 | Switzerland Super League |"
      ],
      "text/plain": [
       "<IPython.core.display.Markdown object>"
      ]
     },
     "execution_count": 96,
     "metadata": {},
     "output_type": "execute_result"
    }
   ],
   "source": [
    "Markdown(tabulate(con.query(\n",
    "    f\"\"\"--sql\n",
    "SELECT * from League\"\"\"\n",
    ").to_df(), showindex=False, headers=\"keys\", tablefmt=\"pipe\"))"
   ]
  },
  {
   "cell_type": "code",
   "execution_count": 94,
   "metadata": {},
   "outputs": [
    {
     "data": {
      "text/markdown": [
       "|   league_id |   count(id) |\n",
       "|------------:|------------:|\n",
       "|           1 |        1728 |\n",
       "|        1729 |        3040 |\n",
       "|        4769 |        3040 |\n",
       "|        7809 |        2448 |\n",
       "|       10257 |        3017 |\n",
       "|       13274 |        2448 |\n",
       "|       15722 |        1920 |\n",
       "|       17642 |        2052 |\n",
       "|       19694 |        1824 |\n",
       "|       21518 |        3040 |\n",
       "|       24558 |        1422 |"
      ],
      "text/plain": [
       "<IPython.core.display.Markdown object>"
      ]
     },
     "execution_count": 94,
     "metadata": {},
     "output_type": "execute_result"
    }
   ],
   "source": [
    "Markdown(tabulate(con.query(\n",
    "    f\"\"\"--sql\n",
    "SELECT league_id, count(id) from Match group by league_id\"\"\"\n",
    ").to_df(), showindex=False, headers=\"keys\", tablefmt=\"pipe\"))"
   ]
  },
  {
   "cell_type": "code",
   "execution_count": null,
   "metadata": {},
   "outputs": [],
   "source": []
  }
 ],
 "metadata": {
  "kernelspec": {
   "display_name": "base",
   "language": "python",
   "name": "python3"
  },
  "language_info": {
   "codemirror_mode": {
    "name": "ipython",
    "version": 3
   },
   "file_extension": ".py",
   "mimetype": "text/x-python",
   "name": "python",
   "nbconvert_exporter": "python",
   "pygments_lexer": "ipython3",
   "version": "3.9.13"
  },
  "orig_nbformat": 4
 },
 "nbformat": 4,
 "nbformat_minor": 2
}
